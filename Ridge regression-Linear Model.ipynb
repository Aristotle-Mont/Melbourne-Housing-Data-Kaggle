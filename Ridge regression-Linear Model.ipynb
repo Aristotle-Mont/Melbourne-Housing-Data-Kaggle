{
 "cells": [
  {
   "cell_type": "code",
   "execution_count": 2,
   "metadata": {
    "collapsed": true
   },
   "outputs": [],
   "source": [
    "import numpy as np\n",
    "import pandas as pd\n",
    "import seaborn as sns\n",
    "import matplotlib.pyplot as plt\n",
    "import numpy as np\n",
    "import pandas as pd\n",
    "import seaborn as sns\n",
    "import matplotlib.pyplot as plt\n",
    "from sklearn.preprocessing import StandardScaler  \n",
    "from scipy import stats\n",
    "from sklearn.cluster import KMeans\n",
    "from sklearn import metrics\n",
    "from sklearn.preprocessing import scale \n",
    "from sklearn.model_selection import train_test_split\n",
    "from sklearn.linear_model import Ridge, RidgeCV, Lasso, LassoCV\n",
    "from sklearn.metrics import mean_squared_error\n",
    "%matplotlib inline \n",
    "%matplotlib inline"
   ]
  },
  {
   "cell_type": "code",
   "execution_count": 6,
   "metadata": {},
   "outputs": [
    {
     "data": {
      "text/plain": [
       "Index(['Rooms', 'Price', 'Distance', 'Bathroom', 'Car', 'Landsize',\n",
       "       'Lattitude', 'Longtitude', 'Propertycount', 'month', 'Type_h', 'Type_t',\n",
       "       'Type_u', 'Method_PI', 'Method_S', 'Method_SA', 'Method_SP',\n",
       "       'Method_VB', 'CouncilArea_Banyule City Council',\n",
       "       'CouncilArea_Bayside City Council',\n",
       "       'CouncilArea_Boroondara City Council',\n",
       "       'CouncilArea_Brimbank City Council',\n",
       "       'CouncilArea_Cardinia Shire Council', 'CouncilArea_Casey City Council',\n",
       "       'CouncilArea_Darebin City Council',\n",
       "       'CouncilArea_Frankston City Council',\n",
       "       'CouncilArea_Glen Eira City Council',\n",
       "       'CouncilArea_Greater Dandenong City Council',\n",
       "       'CouncilArea_Hobsons Bay City Council', 'CouncilArea_Hume City Council',\n",
       "       'CouncilArea_Kingston City Council', 'CouncilArea_Knox City Council',\n",
       "       'CouncilArea_Macedon Ranges Shire Council',\n",
       "       'CouncilArea_Manningham City Council',\n",
       "       'CouncilArea_Maribyrnong City Council',\n",
       "       'CouncilArea_Maroondah City Council',\n",
       "       'CouncilArea_Melbourne City Council', 'CouncilArea_Melton City Council',\n",
       "       'CouncilArea_Mitchell Shire Council', 'CouncilArea_Monash City Council',\n",
       "       'CouncilArea_Moonee Valley City Council',\n",
       "       'CouncilArea_Moorabool Shire Council',\n",
       "       'CouncilArea_Moreland City Council',\n",
       "       'CouncilArea_Nillumbik Shire Council',\n",
       "       'CouncilArea_Port Phillip City Council',\n",
       "       'CouncilArea_Stonnington City Council',\n",
       "       'CouncilArea_Whitehorse City Council',\n",
       "       'CouncilArea_Whittlesea City Council',\n",
       "       'CouncilArea_Wyndham City Council', 'CouncilArea_Yarra City Council',\n",
       "       'CouncilArea_Yarra Ranges Shire Council',\n",
       "       'Regionname_Eastern Metropolitan', 'Regionname_Eastern Victoria',\n",
       "       'Regionname_Northern Metropolitan', 'Regionname_Northern Victoria',\n",
       "       'Regionname_South-Eastern Metropolitan',\n",
       "       'Regionname_Southern Metropolitan', 'Regionname_Western Metropolitan',\n",
       "       'Regionname_Western Victoria'],\n",
       "      dtype='object')"
      ]
     },
     "execution_count": 6,
     "metadata": {},
     "output_type": "execute_result"
    }
   ],
   "source": [
    "df=pd.read_csv(\"data_regression.csv\")\n",
    "df.columns"
   ]
  },
  {
   "cell_type": "markdown",
   "metadata": {},
   "source": [
    "Build model - Ridge Regression"
   ]
  },
  {
   "cell_type": "code",
   "execution_count": 7,
   "metadata": {
    "collapsed": true
   },
   "outputs": [],
   "source": [
    "y= df['Price']\n",
    "X = df.drop(['Price'], axis = 1)\n"
   ]
  },
  {
   "cell_type": "code",
   "execution_count": 8,
   "metadata": {
    "collapsed": true
   },
   "outputs": [],
   "source": [
    "from sklearn.model_selection import train_test_split\n",
    "X_train, X_test, y_train, y_test = train_test_split(X, y, test_size=0.33, random_state=42)"
   ]
  },
  {
   "cell_type": "code",
   "execution_count": 10,
   "metadata": {},
   "outputs": [
    {
     "name": "stderr",
     "output_type": "stream",
     "text": [
      "c:\\anaconda3\\lib\\site-packages\\scipy\\linalg\\basic.py:223: RuntimeWarning: scipy.linalg.solve\n",
      "Ill-conditioned matrix detected. Result is not guaranteed to be accurate.\n",
      "Reciprocal condition number: 6.722374596980563e-17\n",
      "  ' condition number: {}'.format(rcond), RuntimeWarning)\n",
      "c:\\anaconda3\\lib\\site-packages\\scipy\\linalg\\basic.py:223: RuntimeWarning: scipy.linalg.solve\n",
      "Ill-conditioned matrix detected. Result is not guaranteed to be accurate.\n",
      "Reciprocal condition number: 6.447697191026297e-17\n",
      "  ' condition number: {}'.format(rcond), RuntimeWarning)\n",
      "c:\\anaconda3\\lib\\site-packages\\scipy\\linalg\\basic.py:223: RuntimeWarning: scipy.linalg.solve\n",
      "Ill-conditioned matrix detected. Result is not guaranteed to be accurate.\n",
      "Reciprocal condition number: 5.344362021281715e-17\n",
      "  ' condition number: {}'.format(rcond), RuntimeWarning)\n"
     ]
    },
    {
     "name": "stdout",
     "output_type": "stream",
     "text": [
      "Root Mean Squared Error: 410511.4300866021\n",
      "3.1784531810532854\n"
     ]
    }
   ],
   "source": [
    "from timeit import default_timer as timer\n",
    "\n",
    "start = timer()\n",
    "# ...\n",
    "\n",
    "# import libraries\n",
    "from sklearn.preprocessing import StandardScaler\n",
    "from sklearn.pipeline import Pipeline\n",
    "from sklearn.linear_model import Ridge,RidgeCV\n",
    "from sklearn.model_selection import GridSearchCV\n",
    "from sklearn.metrics import mean_squared_error, make_scorer\n",
    "def MSE(y_true,y_pred):\n",
    "    mse = mean_squared_error(y_true, y_pred)\n",
    "    return mse\n",
    "\n",
    "def two_score(y_true,y_pred):    \n",
    "    score = MSE(y_true,y_pred) #set score here and not below if using MSE in GridCV\n",
    "    #print (score)\n",
    "    return score\n",
    "def two_scorer():\n",
    "    return make_scorer(two_score, greater_is_better=False) # change for false if using MSE\n",
    "\n",
    "# steps\n",
    "steps = [('ridge', Ridge())]\n",
    "\n",
    "# Create the pipeline: pipeline\n",
    "pipeline = Pipeline(steps)\n",
    "\n",
    "# Specify the hyperparameter space\n",
    "parameters = {'ridge__alpha':np.logspace(-10, 2, 20)}\n",
    "\n",
    "# Create the GridSearchCV object: cv\n",
    "cv = GridSearchCV(pipeline, parameters, cv=3, scoring= two_scorer())\n",
    "\n",
    "# Fit to the training set\n",
    "cv.fit(X_train, y_train)\n",
    "\n",
    "#predict on train set\n",
    "y_pred_train=cv.predict(X_train)\n",
    "\n",
    "# Predict test set\n",
    "y_pred_test=cv.predict(X_test)\n",
    "\n",
    "# rmse on train set\n",
    "rmse = np.sqrt(mean_squared_error(y_test, y_pred_test))\n",
    "print(\"Root Mean Squared Error: {}\".format(rmse))\n",
    "end = timer()\n",
    "print(end - start)"
   ]
  },
  {
   "cell_type": "code",
   "execution_count": 11,
   "metadata": {},
   "outputs": [
    {
     "data": {
      "text/plain": [
       "{'ridge__alpha': 0.2976351441631313}"
      ]
     },
     "execution_count": 11,
     "metadata": {},
     "output_type": "execute_result"
    }
   ],
   "source": [
    "cv.best_params_"
   ]
  },
  {
   "cell_type": "code",
   "execution_count": 74,
   "metadata": {
    "collapsed": true
   },
   "outputs": [],
   "source": [
    "train_sizes = [1, 100, 500, 1000, 2500, 5000]\n",
    "from sklearn.model_selection import learning_curve\n",
    "\n",
    "train_sizes, train_scores, validation_scores = learning_curve(\n",
    "                                                   estimator = Ridge(alpha = cv.best_params_['ridge__alpha']), X = X_train,\n",
    "                                                   y = y_train, train_sizes = train_sizes, cv = 5,\n",
    "                                                   scoring = 'neg_mean_squared_error', %%shuffle)"
   ]
  },
  {
   "cell_type": "code",
   "execution_count": 75,
   "metadata": {},
   "outputs": [
    {
     "name": "stdout",
     "output_type": "stream",
     "text": [
      "Training scores:\n",
      "\n",
      " [[ -0.00000000e+00  -0.00000000e+00  -0.00000000e+00  -0.00000000e+00\n",
      "   -0.00000000e+00]\n",
      " [ -1.12649965e+11  -5.34632847e+10  -5.34632847e+10  -5.34632847e+10\n",
      "   -5.34632847e+10]\n",
      " [ -1.27001036e+11  -1.10134735e+11  -1.10134735e+11  -1.10134735e+11\n",
      "   -1.10134735e+11]\n",
      " [ -1.67892571e+11  -1.14298041e+11  -1.14298041e+11  -1.14298041e+11\n",
      "   -1.14298041e+11]\n",
      " [ -1.70575677e+11  -1.30202022e+11  -1.30202022e+11  -1.30202022e+11\n",
      "   -1.30202022e+11]\n",
      " [ -1.57349329e+11  -1.36794538e+11  -1.56373561e+11  -1.56373561e+11\n",
      "   -1.56373561e+11]]\n",
      "\n",
      " ----------------------------------------------------------------------\n",
      "\n",
      "Validation scores:\n",
      "\n",
      " [[ -3.90898637e+11  -4.26818009e+11  -4.32898934e+11  -4.05221701e+11\n",
      "   -4.20805135e+11]\n",
      " [ -2.41286659e+11  -2.21427782e+11  -2.04712186e+11  -2.11387847e+11\n",
      "   -2.23110601e+11]\n",
      " [ -1.57703442e+11  -1.85439290e+11  -1.73990032e+11  -1.60603586e+11\n",
      "   -1.86172580e+11]\n",
      " [ -1.50732932e+11  -1.76853857e+11  -1.67712948e+11  -1.54305324e+11\n",
      "   -1.75982826e+11]\n",
      " [ -1.46434022e+11  -1.73532966e+11  -1.66200697e+11  -1.48515631e+11\n",
      "   -1.70788294e+11]\n",
      " [ -1.44266574e+11  -1.72519046e+11  -1.64953593e+11  -1.47505940e+11\n",
      "   -1.69827265e+11]]\n"
     ]
    }
   ],
   "source": [
    "print('Training scores:\\n\\n', train_scores)\n",
    "print('\\n', '-' * 70) # separator to make the output easy to read\n",
    "print('\\nValidation scores:\\n\\n', validation_scores)"
   ]
  },
  {
   "cell_type": "code",
   "execution_count": 76,
   "metadata": {},
   "outputs": [
    {
     "name": "stdout",
     "output_type": "stream",
     "text": [
      "Mean training scores\n",
      "\n",
      " 1      -0.000000e+00\n",
      "100     6.530062e+10\n",
      "500     1.135080e+11\n",
      "1000    1.250169e+11\n",
      "2500    1.382768e+11\n",
      "5000    1.526529e+11\n",
      "dtype: float64\n",
      "\n",
      " --------------------\n",
      "\n",
      "Mean validation scores\n",
      "\n",
      " 1       4.153285e+11\n",
      "100     2.203850e+11\n",
      "500     1.727818e+11\n",
      "1000    1.651176e+11\n",
      "2500    1.610943e+11\n",
      "5000    1.598145e+11\n",
      "dtype: float64\n"
     ]
    }
   ],
   "source": [
    "train_scores_mean = -train_scores.mean(axis = 1)\n",
    "validation_scores_mean = -validation_scores.mean(axis = 1)\n",
    "\n",
    "print('Mean training scores\\n\\n', pd.Series(train_scores_mean, index = train_sizes))\n",
    "print('\\n', '-' * 20) # separator\n",
    "print('\\nMean validation scores\\n\\n',pd.Series(validation_scores_mean, index = train_sizes))"
   ]
  },
  {
   "cell_type": "code",
   "execution_count": 77,
   "metadata": {},
   "outputs": [
    {
     "data": {
      "text/plain": [
       "<matplotlib.legend.Legend at 0x285ed4a4c18>"
      ]
     },
     "execution_count": 77,
     "metadata": {},
     "output_type": "execute_result"
    },
    {
     "data": {
      "image/png": "[encoded data removed]",
      "text/plain": [
       "<Figure size 576x396 with 1 Axes>"
      ]
     },
     "metadata": {},
     "output_type": "display_data"
    }
   ],
   "source": [
    "import matplotlib.pyplot as plt\n",
    "%matplotlib inline\n",
    "\n",
    "plt.style.use('seaborn')\n",
    "\n",
    "plt.plot(train_sizes, train_scores_mean, label = 'Training error')\n",
    "plt.plot(train_sizes, validation_scores_mean, label = 'Validation error')\n",
    "\n",
    "plt.ylabel('MSE', fontsize = 14)\n",
    "plt.xlabel('Training set size', fontsize = 14)\n",
    "plt.title('Learning curves for a Ridge regression model', fontsize = 18, y = 1.03)\n",
    "plt.legend()\n"
   ]
  },
  {
   "cell_type": "code",
   "execution_count": null,
   "metadata": {
    "collapsed": true
   },
   "outputs": [],
   "source": [
    "# https://www.dataquest.io/blog/learning-curves-machine-learning/"
   ]
  },
  {
   "cell_type": "code",
   "execution_count": 42,
   "metadata": {
    "collapsed": true
   },
   "outputs": [],
   "source": [
    "parameters = {'ridge__alpha':np.logspace(-10, 2, 20)}\n",
    "alphas = parameters['ridge__alpha']"
   ]
  },
  {
   "cell_type": "code",
   "execution_count": 47,
   "metadata": {},
   "outputs": [
    {
     "name": "stderr",
     "output_type": "stream",
     "text": [
      "c:\\anaconda3\\lib\\site-packages\\scipy\\linalg\\basic.py:223: RuntimeWarning: scipy.linalg.solve\n",
      "Ill-conditioned matrix detected. Result is not guaranteed to be accurate.\n",
      "Reciprocal condition number: 3.080971151874731e-17\n",
      "  ' condition number: {}'.format(rcond), RuntimeWarning)\n"
     ]
    }
   ],
   "source": [
    "rmse_list = []\n",
    "for alpha in alphas:\n",
    "\n",
    "    cv = Ridge(alpha= alpha)\n",
    "    # Fit to the training set\n",
    "    cv.fit(X_train, y_train)\n",
    "    #predict on train set\n",
    "    y_pred_train=cv.predict(X_train)\n",
    "\n",
    "    # Predict test set\n",
    "    y_pred_test=cv.predict(X_test)\n",
    "\n",
    "    # rmse on train set\n",
    "    rmse = np.sqrt(mean_squared_error(y_test, y_pred_test))\n",
    "    rmse_list.append(rmse)\n",
    "    #print(\"Root Mean Squared Error: {}\".format(rmse))\n"
   ]
  },
  {
   "cell_type": "code",
   "execution_count": 48,
   "metadata": {},
   "outputs": [
    {
     "data": {
      "text/plain": [
       "array([  1.00000000e-10,   4.28133240e-10,   1.83298071e-09,\n",
       "         7.84759970e-09,   3.35981829e-08,   1.43844989e-07,\n",
       "         6.15848211e-07,   2.63665090e-06,   1.12883789e-05,\n",
       "         4.83293024e-05,   2.06913808e-04,   8.85866790e-04,\n",
       "         3.79269019e-03,   1.62377674e-02,   6.95192796e-02,\n",
       "         2.97635144e-01,   1.27427499e+00,   5.45559478e+00,\n",
       "         2.33572147e+01,   1.00000000e+02])"
      ]
     },
     "execution_count": 48,
     "metadata": {},
     "output_type": "execute_result"
    }
   ],
   "source": [
    "alphas"
   ]
  },
  {
   "cell_type": "code",
   "execution_count": 49,
   "metadata": {},
   "outputs": [
    {
     "data": {
      "image/png": "[encoded data removed]",
      "text/plain": [
       "<Figure size 432x288 with 1 Axes>"
      ]
     },
     "metadata": {},
     "output_type": "display_data"
    }
   ],
   "source": [
    "ax = plt.gca()\n",
    "\n",
    "ax.plot(alphas, rmse_list)\n",
    "ax.set_xscale('log')\n",
    "ax.set_xlim(ax.get_xlim()[::-1])  # reverse axis\n",
    "plt.xlabel('alpha')\n",
    "plt.ylabel('RMSE')\n",
    "plt.title('RMSE error for Ridge regression')\n",
    "plt.axis('tight')\n",
    "plt.savefig('Images/RMSE-alpha-Ridge.png')\n",
    "plt.show()"
   ]
  },
  {
   "cell_type": "code",
   "execution_count": 80,
   "metadata": {},
   "outputs": [
    {
     "data": {
      "image/png": "[encoded data removed]",
      "text/plain": [
       "<Figure size 576x396 with 1 Axes>"
      ]
     },
     "metadata": {},
     "output_type": "display_data"
    }
   ],
   "source": [
    "n_alphas = 200\n",
    "alphas = np.logspace(-10, 10, n_alphas)\n",
    "\n",
    "coefs = []\n",
    "for a in alphas:\n",
    "    ridge = Ridge(alpha=a, fit_intercept=False)\n",
    "    ridge.fit(X_train, y_train)\n",
    "    coefs.append(ridge.coef_)\n",
    "\n",
    "# #############################################################################\n",
    "# Display results\n",
    "\n",
    "ax = plt.gca()\n",
    "\n",
    "ax.plot(alphas, coefs)\n",
    "ax.set_xscale('log')\n",
    "ax.set_xlim(ax.get_xlim()[::-1])  # reverse axis\n",
    "plt.xlabel('alpha')\n",
    "plt.ylabel('weights')\n",
    "plt.title('Ridge coefficients as a function of the regularization')\n",
    "plt.axis('tight')\n",
    "plt.show()"
   ]
  },
  {
   "cell_type": "code",
   "execution_count": null,
   "metadata": {
    "collapsed": true
   },
   "outputs": [],
   "source": []
  }
 ],
 "metadata": {
  "kernelspec": {
   "display_name": "Python 3",
   "language": "python",
   "name": "python3"
  },
  "language_info": {
   "codemirror_mode": {
    "name": "ipython",
    "version": 3
   },
   "file_extension": ".py",
   "mimetype": "text/x-python",
   "name": "python",
   "nbconvert_exporter": "python",
   "pygments_lexer": "ipython3",
   "version": "3.6.2"
  }
 },
 "nbformat": 4,
 "nbformat_minor": 2
}
